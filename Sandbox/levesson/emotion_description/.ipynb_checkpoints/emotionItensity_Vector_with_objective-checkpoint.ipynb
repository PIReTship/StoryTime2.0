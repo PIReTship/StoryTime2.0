{
 "cells": [
  {
   "cell_type": "code",
   "execution_count": null,
   "metadata": {},
   "outputs": [],
   "source": [
    "import pandas as pd\n",
    "from operator import itemgetter\n",
    "from nltk.corpus import wordnet\n",
    "from nltk.stem.wordnet import WordNetLemmatizer\n",
    "import html2text\n",
    "import numpy as np\n",
    "import re\n",
    "import nltk\n",
    "\n",
    "from spacy.lang.en import STOP_WORDS\n",
    "from sklearn.feature_extraction.stop_words import ENGLISH_STOP_WORDS\n",
    "from nltk.corpus import stopwords"
   ]
  },
  {
   "cell_type": "code",
   "execution_count": null,
   "metadata": {},
   "outputs": [],
   "source": [
    "#Long stop words list using 3 differnt python stopword libraries\n",
    "stops = list(set(stopwords.words('english') + list(set(ENGLISH_STOP_WORDS)) + list(set(STOP_WORDS)) + [\"http\"]))"
   ]
  },
  {
   "cell_type": "code",
   "execution_count": null,
   "metadata": {},
   "outputs": [],
   "source": [
    "#This Block loads the Lexicon and creates a data structure for the emotion-itensity\n",
    "\n",
    "fileEmotion = \"emotion_itensity.txt\"\n",
    "table = pd.read_csv(fileEmotion,  names=[\"word\", \"emotion\", \"itensity\"], sep='\\t')\n",
    "#create the dictionary with the word/emotion/score\n",
    "emotion_dic = dict()\n",
    "lmtzr = WordNetLemmatizer()\n",
    "for index, row in table.iterrows():\n",
    "    #add first as it is given in the lexicon\n",
    "    temp_key = row['word'] + '#' + row['emotion']\n",
    "    emotion_dic[temp_key] = row['itensity']\n",
    "    #add in the normal noun form\n",
    "    temp_key_n = lmtzr.lemmatize(row['word']) + '#' + row['emotion']\n",
    "    emotion_dic[temp_key_n] = row['itensity']\n",
    "    #add in the normal verb form\n",
    "    temp_key_v = lmtzr.lemmatize(row['word'], 'v') + '#' + row['emotion']\n",
    "    emotion_dic[temp_key_v] = row['itensity']"
   ]
  },
  {
   "cell_type": "code",
   "execution_count": null,
   "metadata": {},
   "outputs": [],
   "source": [
    "#create h to clean descriptions in case they are in html format\n",
    "h = html2text.HTML2Text()\n",
    "h.ignore_links = True"
   ]
  },
  {
   "cell_type": "code",
   "execution_count": null,
   "metadata": {},
   "outputs": [],
   "source": [
    "#function that get the emotion itensity\n",
    "def getEmotionItensity(word,emotion):\n",
    "    key = word + \"#\" + emotion\n",
    "    try:\n",
    "        return emotion_dic[key]\n",
    "    except:\n",
    "        return 0.0"
   ]
  },
  {
   "cell_type": "code",
   "execution_count": null,
   "metadata": {},
   "outputs": [],
   "source": [
    "#Check if the word is in the Lexicon\n",
    "def isWordInEmotionFile(word):\n",
    "    result = [(key) for key in emotion_dic.keys() if key.startswith(word + \"#\")]\n",
    "    if len(result) == 0:\n",
    "        return False\n",
    "    else:\n",
    "        return True"
   ]
  },
  {
   "cell_type": "code",
   "execution_count": null,
   "metadata": {},
   "outputs": [],
   "source": [
    "#Stopping checker \n",
    "def isStopWord(word):\n",
    "    if word in stops:\n",
    "        return True\n",
    "    else:\n",
    "        return False"
   ]
  },
  {
   "cell_type": "code",
   "execution_count": null,
   "metadata": {},
   "outputs": [],
   "source": [
    "#Assign the emotion itensity to the dictionary\n",
    "def calculateEmotion(emotions, word):\n",
    "    emotions[\"Anger\"] += getEmotionItensity(word, \"anger\")\n",
    "    emotions[\"Anticipation\"] += getEmotionItensity(word, \"anticipation\")\n",
    "    emotions[\"Disgust\"] += getEmotionItensity(word, \"disgust\")\n",
    "    emotions[\"Fear\"] += getEmotionItensity(word, \"fear\")\n",
    "    emotions[\"Joy\"] += getEmotionItensity(word, \"joy\")\n",
    "    emotions[\"Sadness\"] += getEmotionItensity(word, \"sadness\")\n",
    "    emotions[\"Surprise\"] += getEmotionItensity(word, \"surprise\")\n",
    "    emotions[\"Trust\"] += getEmotionItensity(word, \"trust\")"
   ]
  },
  {
   "cell_type": "code",
   "execution_count": null,
   "metadata": {},
   "outputs": [],
   "source": [
    "#get the emotion vector of a given text\n",
    "def getEmotionVector(text):\n",
    "    #create the initial emotions\n",
    "    emotions = {\"Anger\": 0.0,\n",
    "                \"Anticipation\": 0.0,\n",
    "                \"Disgust\": 0.0,\n",
    "                \"Fear\": 0.0,\n",
    "                \"Joy\": 0.0,\n",
    "                \"Sadness\": 0.0,\n",
    "                \"Surprise\": 0.0,\n",
    "                \"Trust\": 0.0,\n",
    "                \"Objective\": 0.0}\n",
    "    #parse the description\n",
    "    str = re.sub(\"[^a-zA-Z]+\", \" \", text)\n",
    "    pat = re.compile(r'[^a-zA-Z ]+')\n",
    "    str = re.sub(pat, '', str).lower()\n",
    "    #split string\n",
    "    splits = str.split()\n",
    "\n",
    "    #iterate over words array\n",
    "    for split in splits:\n",
    "        if not isStopWord(split):\n",
    "            #first check if the word is in its natural form\n",
    "            if isWordInEmotionFile(split): \n",
    "                calculateEmotion(emotions, split)\n",
    "            elif isWordInEmotionFile(lmtzr.lemmatize(split)):\n",
    "                calculateEmotion(emotions, lmtzr.lemmatize(split))\n",
    "            elif isWordInEmotionFile(lmtzr.lemmatize(split, 'v')):\n",
    "                calculateEmotion(emotions, lmtzr.lemmatize(split, 'v'))   \n",
    "            else:\n",
    "                emotions[\"Objective\"] += 1\n",
    "    total = sum(emotions.values())\n",
    "    for key in sorted(emotions.keys()):\n",
    "        try:\n",
    "            emotions[key] = (1.0 / total) * emotions[key]\n",
    "        except:\n",
    "            emotions[key] = 0\n",
    "    return emotions"
   ]
  },
  {
   "cell_type": "code",
   "execution_count": null,
   "metadata": {
    "scrolled": true
   },
   "outputs": [],
   "source": [
    "#This block just test the functions above\n",
    "#open description file\n",
    "file = open(\"description.txt\",\"r\")\n",
    "str_f = file.read()\n",
    "file.close()\n",
    "formatedDescription = h.handle(str_f)\n",
    "results = getEmotionVector(formatedDescription)\n",
    "\n",
    "print(results)\n",
    "\n",
    "import matplotlib.pyplot as plt\n",
    "from pylab import rcParams\n",
    "\n",
    "plt.barh(range(len(results)), list(results.values()), align='center')\n",
    "plt.yticks(range(len(results)), list(results.keys()))\n",
    "\n",
    "#plt.xlabel('Emotion')\n",
    "plt.title('Emotion Itensity with Objective')\n",
    "plt.show()\n",
    "\n",
    "del results['Objective']\n",
    "plt.barh(range(len(results)), list(results.values()), align='center')\n",
    "plt.yticks(range(len(results)), list(results.keys()))\n",
    "\n",
    "#plt.xlabel('Emotion')\n",
    "plt.title('Emotion Itensity')\n",
    "plt.show()\n",
    "\n"
   ]
  },
  {
   "cell_type": "code",
   "execution_count": null,
   "metadata": {},
   "outputs": [],
   "source": [
    "#This block run over all the books on the CSV file\n",
    "#before executing this cell, make sure the csv file has a column called \"emotion_NRC_objective\"\n",
    "csv_file = 'complete_pl.csv'\n",
    "books = pd.read_csv(csv_file)\n",
    "for index, row in books.iterrows():\n",
    "    description = h.handle(row['description'])\n",
    "    books.loc[index, 'emotion_NRC_objective'] = str(getEmotionVector(description))\n",
    "#output file    \n",
    "books.to_csv('complete_pl_output.csv')"
   ]
  },
  {
   "cell_type": "code",
   "execution_count": null,
   "metadata": {},
   "outputs": [],
   "source": []
  },
  {
   "cell_type": "code",
   "execution_count": null,
   "metadata": {},
   "outputs": [],
   "source": []
  },
  {
   "cell_type": "code",
   "execution_count": null,
   "metadata": {},
   "outputs": [],
   "source": []
  },
  {
   "cell_type": "code",
   "execution_count": null,
   "metadata": {},
   "outputs": [],
   "source": []
  },
  {
   "cell_type": "code",
   "execution_count": null,
   "metadata": {},
   "outputs": [],
   "source": []
  }
 ],
 "metadata": {
  "kernelspec": {
   "display_name": "Python 3",
   "language": "python",
   "name": "python3"
  },
  "language_info": {
   "codemirror_mode": {
    "name": "ipython",
    "version": 3
   },
   "file_extension": ".py",
   "mimetype": "text/x-python",
   "name": "python",
   "nbconvert_exporter": "python",
   "pygments_lexer": "ipython3",
   "version": "3.8.2"
  }
 },
 "nbformat": 4,
 "nbformat_minor": 2
}
