{
 "cells": [
  {
   "cell_type": "code",
   "execution_count": null,
   "metadata": {},
   "outputs": [],
   "source": [
    "import sys\n",
    "import semantria\n",
    "import time\n",
    "import pandas as pd\n",
    "import gender_guesser.detector as gender\n",
    "import html2text\n",
    "from tqdm import tqdm\n",
    "\n",
    "# Consumer key and secret\n",
    "consumerKey = \"b28c7f8e-b506-4355-a484-6f77190eaad7\"\n",
    "consumerSecret = \"0fbae06e-b8a5-4240-b0b1-2efaeb2db89b\"\n",
    "\n",
    "# Initializes new session with the keys.\n",
    "session = semantria.Session(consumerKey, consumerSecret)\n",
    "\n",
    "# Set Global Variables\n",
    "subscription = session.getSubscription()\n",
    "gender_det = gender.Detector()\n",
    "h = html2text.HTML2Text() #used to clean html text format\n",
    "h.ignore_links = True"
   ]
  },
  {
   "cell_type": "code",
   "execution_count": null,
   "metadata": {},
   "outputs": [],
   "source": [
    "# Given a full name, guessGender returns girl, boy or none if gender is undefined \n",
    "def guessGender(name):\n",
    "    first = name.split()[0]\n",
    "    guess = gender_det.get_gender(first)\n",
    "    if guess == \"female\" or guess == \"mostly_female\":\n",
    "        return \"girl\"\n",
    "    elif guess == \"male\" or guess == \"mostly_male\":\n",
    "        return \"boy\"\n",
    "    else:\n",
    "        return None\n",
    "    "
   ]
  },
  {
   "cell_type": "code",
   "execution_count": null,
   "metadata": {},
   "outputs": [],
   "source": [
    "#Given a semantria Doc, getSemantriaResults will return a jason set with the results \n",
    "def getSemantriaResults(doc):\n",
    "    #send documents to semantria\n",
    "    status = session.queueBatch(doc)\n",
    "    if not status in [200, 202]:\n",
    "        print(\"error in processing\")\n",
    "        return None\n",
    "        \n",
    "    #retrieve documents\n",
    "    response = []\n",
    "    response = session.getProcessedDocuments()\n",
    "    #wait 3 seconds and try again in case the results are still being processed \n",
    "    while len(response) < len(doc):\n",
    "        time.sleep(3)\n",
    "        response = session.getProcessedDocuments()\n",
    "    \n",
    "    resultsSet = []\n",
    "    for item in response:\n",
    "        resultsSet.append(item)\n",
    "    return resultsSet   "
   ]
  },
  {
   "cell_type": "code",
   "execution_count": null,
   "metadata": {},
   "outputs": [],
   "source": [
    "#normalize the values of a dictionary(assign value 0 to 100)\n",
    "def normalizeDictionary(dic):\n",
    "    total = sum(dic.values())\n",
    "    for key in sorted(dic.keys()):\n",
    "        try:\n",
    "            dic[key] = round((100.0 / total) * dic[key], 3)\n",
    "        except:\n",
    "            dic[key] = 0.000\n",
    "    return dic  "
   ]
  },
  {
   "cell_type": "code",
   "execution_count": null,
   "metadata": {},
   "outputs": [],
   "source": [
    "#declare the name of the file to be processed - Make sure this file has the columns:\n",
    "    #character_in_description - character_in_review - setting_in_description - setting_in_review\n",
    "csv_file = '100_reviews_for_documentation.csv'\n",
    "bookReviews = pd.read_csv(csv_file)\n",
    "#declare the name of the outputFile\n",
    "output_file = 'first100_char_set_evaluation.csv'"
   ]
  },
  {
   "cell_type": "code",
   "execution_count": null,
   "metadata": {},
   "outputs": [],
   "source": [
    "#this block just outputs a sample of the input file to test the file before processing \n",
    "print(len(bookReviews))\n",
    "bookReviews.head()"
   ]
  },
  {
   "cell_type": "code",
   "execution_count": null,
   "metadata": {},
   "outputs": [],
   "source": [
    "#This block create the data for the documents from the csv input\n",
    "#It assumes that the csv cell with the reviews are in a python list or dictionary format\n",
    "documents = dict()\n",
    "reviews = []\n",
    "k = 0\n",
    "\n",
    "for index, row in tqdm(bookReviews.iterrows()):\n",
    "    \n",
    "    documents[k] = list()\n",
    "    description = h.handle(row['description'])\n",
    "    #Semantria is limited to 2040 words per document\n",
    "    if(len(description) > 2040):\n",
    "        description = description[0:2040]\n",
    "    #the discription is always the first position in the dictionary\n",
    "    documents[k].append({'id': str(0), 'text': description, \"metadata\": {\"Author\": row['authors'], \"Book Name\": row['titles']}})\n",
    "    \n",
    "    try:\n",
    "        n = 1\n",
    "        reviews = eval(row['review_text'])\n",
    "        for review in reviews:\n",
    "            #Semantria is limited to 2040 words per document\n",
    "            if(len(review) > 2040):\n",
    "                review = review[0:2040] \n",
    "            documents[k].append({'id': str(n), 'text': review, \"metadata\": {\"Author\": row['authors'], \"Book Name\": row['titles']}})\n",
    "            n = n + 1\n",
    "            # a max of 50 reviews\n",
    "            if n == 50:\n",
    "                break\n",
    "    #if the cells with the reviews have a wrong formating, it will throw an exception\n",
    "    except:\n",
    "        print(\"Error in processing reviews for row# \" + str(index))\n",
    "    k = k + 1\n",
    "\n"
   ]
  },
  {
   "cell_type": "code",
   "execution_count": null,
   "metadata": {
    "scrolled": true
   },
   "outputs": [],
   "source": [
    "#This block just test the data extraction. To check, put an index(row number of csv) and check if the extraction is accurate\n",
    "docIndex = 10\n",
    "print(docIndex)\n",
    "j = []\n",
    "for doc in documents[docIndex]:\n",
    "    j.append(len(doc['text']))\n",
    "j.sort()\n",
    "print(j)\n",
    "print()\n",
    "print((documents[docIndex][0][\"metadata\"]))\n",
    "print()\n",
    "print((documents[docIndex][0][\"text\"]))"
   ]
  },
  {
   "cell_type": "code",
   "execution_count": null,
   "metadata": {
    "scrolled": false
   },
   "outputs": [],
   "source": [
    "#Brain Block - get the results from the semantria function and saves the results to the ouput file\n",
    "for index in tqdm(range(len(bookReviews))):\n",
    "    \n",
    "    CharacterRev = dict()\n",
    "    SettingRev = dict()\n",
    "    CharDescrip = dict()\n",
    "    SetDescrip = dict()\n",
    "    \n",
    "    results = getSemantriaResults(documents[index])\n",
    "    results.sort(key = lambda x: (len (x['id']), x['id'])) \n",
    "    for data in results:\n",
    "        \n",
    "        #get the last name of the author for avoid assigning it to a character\n",
    "        fullName = data['metadata']['Author']\n",
    "        names = fullName.split()\n",
    "        last = names[0]\n",
    "        if len(names) != 1:\n",
    "            first, *middle, last = fullName.split()\n",
    "        author = last\n",
    "        \n",
    "        #get the characters\n",
    "        if \"entities\" in data:\n",
    "            for entity in data[\"entities\"]: \n",
    "                if((entity['type'] == 'user' or entity['entity_type'] == 'Person') and not (author in entity['title'].split())):\n",
    "\n",
    "                    title = entity['title']\n",
    "                    if(entity['entity_type'] == 'Person'):\n",
    "                        personGender = guessGender(title)\n",
    "                        if personGender == None:\n",
    "                            continue\n",
    "                        title = personGender\n",
    "\n",
    "                    for location in entity['mentions'][0]['locations']:\n",
    "                        if(data['id'] == '0'):\n",
    "                            if title in CharDescrip:\n",
    "                                CharDescrip[title] += 1\n",
    "                            else:\n",
    "                                CharDescrip[title] = 1\n",
    "                        else:                    \n",
    "                            if title in CharacterRev:\n",
    "                                CharacterRev[title] += 1\n",
    "                            else:\n",
    "                                CharacterRev[title] = 1\n",
    "        #get the settings \n",
    "        if \"topics\" in data:\n",
    "            for topic in data[\"topics\"]:\n",
    "                # Semantria treats the settings as \"topics\"\n",
    "                if(topic['type'] == \"concept\"):\n",
    "                    if(data['id'] == '0'):\n",
    "                        if topic['title'] in SetDescrip:\n",
    "                            SetDescrip[topic['title']] += 1\n",
    "                        else:\n",
    "                            SetDescrip[topic['title']] = 1\n",
    "                    else:\n",
    "                        if topic['title'] in SettingRev:\n",
    "                            SettingRev[topic['title']] += 1\n",
    "                        else:\n",
    "                            SettingRev[topic['title']] = 1\n",
    "    \n",
    "    #save the results per book\n",
    "    bookReviews.loc[index, 'character_in_description'] = str(normalizeDictionary(CharDescrip))\n",
    "    bookReviews.loc[index, 'character_in_review'] = str(normalizeDictionary(CharacterRev))\n",
    "    bookReviews.loc[index, 'setting_in_description'] = str(normalizeDictionary(SetDescrip))\n",
    "    bookReviews.loc[index, 'setting_in_review'] = str(normalizeDictionary(SettingRev))\n",
    "    bookReviews.to_csv(output_file)\n",
    "                            \n",
    "print(\"Completed\")\n",
    "    "
   ]
  },
  {
   "cell_type": "code",
   "execution_count": null,
   "metadata": {},
   "outputs": [],
   "source": []
  },
  {
   "cell_type": "code",
   "execution_count": null,
   "metadata": {},
   "outputs": [],
   "source": []
  },
  {
   "cell_type": "code",
   "execution_count": null,
   "metadata": {},
   "outputs": [],
   "source": []
  },
  {
   "cell_type": "code",
   "execution_count": null,
   "metadata": {},
   "outputs": [],
   "source": []
  },
  {
   "cell_type": "code",
   "execution_count": null,
   "metadata": {},
   "outputs": [],
   "source": []
  },
  {
   "cell_type": "code",
   "execution_count": null,
   "metadata": {},
   "outputs": [],
   "source": []
  },
  {
   "cell_type": "code",
   "execution_count": null,
   "metadata": {},
   "outputs": [],
   "source": []
  }
 ],
 "metadata": {
  "kernelspec": {
   "display_name": "Python 3",
   "language": "python",
   "name": "python3"
  },
  "language_info": {
   "codemirror_mode": {
    "name": "ipython",
    "version": 3
   },
   "file_extension": ".py",
   "mimetype": "text/x-python",
   "name": "python",
   "nbconvert_exporter": "python",
   "pygments_lexer": "ipython3",
   "version": "3.8.2"
  }
 },
 "nbformat": 4,
 "nbformat_minor": 2
}
