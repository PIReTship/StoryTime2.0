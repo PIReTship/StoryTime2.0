{
 "cells": [
  {
   "cell_type": "code",
   "execution_count": 1,
   "metadata": {},
   "outputs": [],
   "source": [
    "#This notebook if for test and tunning - Reads the description from the description.txt file"
   ]
  },
  {
   "cell_type": "code",
   "execution_count": 2,
   "metadata": {},
   "outputs": [],
   "source": [
    "import sys\n",
    "import semantria\n",
    "import time\n",
    "import pandas as pd\n",
    "import gender_guesser.detector as gender\n",
    "\n",
    "# Consumer key and secret\n",
    "consumerKey = \"b28c7f8e-b506-4355-a484-6f77190eaad7\"\n",
    "consumerSecret = \"0fbae06e-b8a5-4240-b0b1-2efaeb2db89b\"\n",
    "\n",
    "# Initializes new session with the keys.\n",
    "session = semantria.Session(consumerKey, consumerSecret)\n",
    "subscription = session.getSubscription()\n",
    "\n",
    "gender_det = gender.Detector()"
   ]
  },
  {
   "cell_type": "code",
   "execution_count": 3,
   "metadata": {},
   "outputs": [],
   "source": [
    "# Given a full name, guessGender returns girl, boy or none if gender is undefined \n",
    "def guessGender(name):\n",
    "    first = name.split()[0]\n",
    "    guess = gender_det.get_gender(first)\n",
    "    if guess == \"female\" or guess == \"mostly_female\":\n",
    "        return \"girl\"\n",
    "    elif guess == \"male\" or guess == \"mostly_male\":\n",
    "        return \"boy\"\n",
    "    else:\n",
    "        return None\n",
    "    "
   ]
  },
  {
   "cell_type": "code",
   "execution_count": 16,
   "metadata": {
    "scrolled": true
   },
   "outputs": [
    {
     "name": "stdout",
     "output_type": "stream",
     "text": [
      "Readers beware. The brilliant, breathtaking conclusion to J.K. Rowling's spellbinding series is not for the faint of heart--such revelations, battles, and betrayals await in Harry Potter and the Deathly Hallows that no fan will make it to the end unscathed. Luckily, Rowling has prepped loyal readers for the end of her series by doling out increasingly dark and dangerous tales of magic and mystery, shot through with lessons about honor and contempt, love and loss, and right and wrong. Fear not, you will find no spoilers in our review--to tell the plot would ruin the journey, and Harry Potter and the Deathly Hallows is an odyssey the likes of which Rowling's fans have not yet seen, and are not likely to forget. But we would be remiss if we did not offer one small suggestion before you embark on your final adventure with Harry--bring plenty of tissues.\n",
      "The heart of Book 7 is a hero's mission--not just in Harry's quest for the Horcruxes, but in his journey from boy to man--and Harry faces more danger than that found in all six books combined, from the direct threat of the Death Eaters and you-know-who, to the subtle perils of losing faith in himself. Attentive readers would do well to remember Dumbledore's warning about making the choice between \"what is right and what is easy,\" and know that Rowling applies the same difficult principle to the conclusion of her series. While fans will find the answers to hotly speculated questions about Dumbledore, Snape, and you-know-who, it is a testament to Rowling's skill as a storyteller that even the most astute and careful reader will be taken by surprise.\n"
     ]
    }
   ],
   "source": [
    "#open and print the file Description\n",
    "file = open(\"description.txt\",\"r\")\n",
    "str_f = file.read()\n",
    "file.close()\n",
    "print(str_f)"
   ]
  },
  {
   "cell_type": "code",
   "execution_count": null,
   "metadata": {},
   "outputs": [],
   "source": []
  },
  {
   "cell_type": "code",
   "execution_count": 17,
   "metadata": {},
   "outputs": [],
   "source": [
    "#Create data for documents\n",
    "\n",
    "#the document to send to semantria\n",
    "documents = dict()\n",
    "documents[0] = list()\n",
    "documents[0].append({'id': str(0), 'text': str_f, \"metadata\": {\"Author\": \"Author Sample\", \"Book Name\": \"Book name Sample\"}})"
   ]
  },
  {
   "cell_type": "code",
   "execution_count": null,
   "metadata": {
    "scrolled": true
   },
   "outputs": [],
   "source": []
  },
  {
   "cell_type": "code",
   "execution_count": 18,
   "metadata": {},
   "outputs": [
    {
     "name": "stdout",
     "output_type": "stream",
     "text": [
      "1 documents queued successfully.\n"
     ]
    }
   ],
   "source": [
    "#Send the Document\n",
    "status = session.queueBatch(documents[0])\n",
    "if status in [200, 202]:\n",
    "    print (\"{0} documents queued successfully.\".format(len(documents[0])))\n",
    "else:\n",
    "    print(\"error in processing\")\n",
    "#After Sending, it is necessary to wait before retrieving. 5 seconds is a lot for this example, but will garantee the processing\n",
    "time.sleep(5)"
   ]
  },
  {
   "cell_type": "code",
   "execution_count": 19,
   "metadata": {
    "scrolled": true
   },
   "outputs": [
    {
     "name": "stdout",
     "output_type": "stream",
     "text": [
      "Retrieving your processed results...\n",
      "Done!\n"
     ]
    }
   ],
   "source": [
    "#Retrieve the Documents\n",
    "results = []\n",
    "print (\"Retrieving your processed results...\")\n",
    "response = session.getProcessedDocuments()\n",
    "for item in response:\n",
    "    results.append(item)\n",
    "\n",
    "print(\"Done!\")"
   ]
  },
  {
   "cell_type": "code",
   "execution_count": 20,
   "metadata": {
    "scrolled": true
   },
   "outputs": [
    {
     "name": "stdout",
     "output_type": "stream",
     "text": [
      "Document 0 / Sentiment score: -0.006020918\n",
      "{'Author': 'Author Sample', 'Book Name': 'Book name Sample'}\n"
     ]
    }
   ],
   "source": [
    "#Extract Character and Settings from the results\n",
    "Character = dict()\n",
    "Setting = dict()\n",
    "\n",
    "CharDescrip = dict()\n",
    "SetDescrip = dict()\n",
    "\n",
    "results.sort(key = lambda x: (len (x['id']), x['id'])) \n",
    "for data in results:\n",
    "    \n",
    "    print (\"Document {0} / Sentiment score: {1}\".format(data['id'], data['sentiment_score']))\n",
    "    print(data['metadata'])\n",
    "    first, *middle, last = data['metadata']['Author'].split()\n",
    "    author = last\n",
    "\n",
    "    if \"entities\" in data:\n",
    "        for entity in data[\"entities\"]: \n",
    "            if((entity['type'] == 'user' or entity['entity_type'] == 'Person') and not (author in entity['title'].split())):\n",
    "                title = entity['title']\n",
    "                if(entity['entity_type'] == 'Person'):\n",
    "                    personGender = guessGender(title)\n",
    "                    if personGender == None:\n",
    "                        continue\n",
    "                    title = personGender\n",
    "\n",
    "                for location in entity['mentions'][0]['locations']:\n",
    "                    if(data['id'] == '0'):\n",
    "                        if title in CharDescrip:\n",
    "                            CharDescrip[title] += 1\n",
    "                        else:\n",
    "                            CharDescrip[title] = 1\n",
    "                    else:                    \n",
    "                        if title in CharacterRev:\n",
    "                            Character[title] += 1\n",
    "                        else:\n",
    "                            Character[title] = 1\n",
    "            \n",
    "    if \"topics\" in data:\n",
    "        for topic in data[\"topics\"]:\n",
    "            if(topic['type'] == \"concept\"):\n",
    "                if(data['id'] == '0'):\n",
    "                    if topic['title'] in SetDescrip:\n",
    "                        SetDescrip[topic['title']] += 1\n",
    "                    else:\n",
    "                        SetDescrip[topic['title']] = 1\n",
    "                else:\n",
    "                    if topic['title'] in Setting:\n",
    "                        Setting[topic['title']] += 1\n",
    "                    else:\n",
    "                        Setting[topic['title']] = 1"
   ]
  },
  {
   "cell_type": "code",
   "execution_count": 21,
   "metadata": {},
   "outputs": [
    {
     "data": {
      "image/png": "[encoded data removed]",
      "text/plain": [
       "<Figure size 720x504 with 1 Axes>"
      ]
     },
     "metadata": {
      "needs_background": "light"
     },
     "output_type": "display_data"
    },
    {
     "data": {
      "image/png": "[encoded data removed]",
      "text/plain": [
       "<Figure size 720x504 with 1 Axes>"
      ]
     },
     "metadata": {
      "needs_background": "light"
     },
     "output_type": "display_data"
    }
   ],
   "source": [
    "#Plot the results\n",
    "import matplotlib.pyplot as plt\n",
    "from pylab import rcParams\n",
    "rcParams['figure.figsize'] = 10, 7\n",
    "\n",
    "totalChar = 0\n",
    "for value in CharDescrip:\n",
    "    totalChar += CharDescrip[value]\n",
    "if totalChar != 0:\n",
    "    fraction = 100.0 / totalChar\n",
    "for value in CharDescrip:\n",
    "    CharDescrip[value] = CharDescrip[value] * fraction\n",
    "\n",
    "plt.barh(range(len(CharDescrip)), list(CharDescrip.values()), align='center')\n",
    "plt.yticks(range(len(CharDescrip)), list(CharDescrip.keys()))\n",
    "plt.xlim(0, 100)\n",
    "plt.xlabel('Usage')\n",
    "plt.title('Character in Description')\n",
    "plt.show()\n",
    "\n",
    "totalSettings = 0\n",
    "for value in SetDescrip:\n",
    "    totalSettings += SetDescrip[value]\n",
    "if totalSettings != 0:\n",
    "    fraction = 100.0 / totalSettings\n",
    "for value in SetDescrip:\n",
    "    SetDescrip[value] = SetDescrip[value] * fraction\n",
    "\n",
    "plt.barh(range(len(SetDescrip)), list(SetDescrip.values()), align='center')\n",
    "plt.yticks(range(len(SetDescrip)), list(SetDescrip.keys()))\n",
    "plt.xlim(0, 100)\n",
    "plt.xlabel('Usage percentage')\n",
    "plt.title('Setting in Description')\n",
    "plt.show()\n"
   ]
  },
  {
   "cell_type": "code",
   "execution_count": null,
   "metadata": {},
   "outputs": [],
   "source": [
    "\n"
   ]
  },
  {
   "cell_type": "code",
   "execution_count": null,
   "metadata": {},
   "outputs": [],
   "source": []
  },
  {
   "cell_type": "code",
   "execution_count": null,
   "metadata": {},
   "outputs": [],
   "source": []
  },
  {
   "cell_type": "code",
   "execution_count": null,
   "metadata": {},
   "outputs": [],
   "source": []
  }
 ],
 "metadata": {
  "kernelspec": {
   "display_name": "Python 3",
   "language": "python",
   "name": "python3"
  },
  "language_info": {
   "codemirror_mode": {
    "name": "ipython",
    "version": 3
   },
   "file_extension": ".py",
   "mimetype": "text/x-python",
   "name": "python",
   "nbconvert_exporter": "python",
   "pygments_lexer": "ipython3",
   "version": "3.8.2"
  }
 },
 "nbformat": 4,
 "nbformat_minor": 2
}
