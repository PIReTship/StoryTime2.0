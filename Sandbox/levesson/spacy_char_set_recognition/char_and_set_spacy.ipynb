{
 "cells": [
  {
   "cell_type": "code",
   "execution_count": null,
   "metadata": {},
   "outputs": [],
   "source": [
    "#the spacy library - make sure to have dowloaded Spacy and the large dictionary\n",
    "import spacy \n",
    "#Make sure to have dowloaded the large dictionary - command: python -m spacy download en_core_web_lg\n",
    "nlp = spacy.load('en_core_web_lg') "
   ]
  },
  {
   "cell_type": "code",
   "execution_count": null,
   "metadata": {},
   "outputs": [],
   "source": [
    "#the gender guesser Library\n",
    "import gender_guesser.detector as gender\n",
    "gender_det = gender.Detector()"
   ]
  },
  {
   "cell_type": "code",
   "execution_count": null,
   "metadata": {},
   "outputs": [],
   "source": [
    "#turn off the warnings\n",
    "import warnings\n",
    "warnings.filterwarnings(\"ignore\")"
   ]
  },
  {
   "cell_type": "code",
   "execution_count": null,
   "metadata": {},
   "outputs": [],
   "source": [
    "import numpy as np\n",
    "import re"
   ]
  },
  {
   "cell_type": "code",
   "execution_count": null,
   "metadata": {},
   "outputs": [],
   "source": [
    "#create the key words for the settings \n",
    "jungleTokens = nlp(\"jungle rainforest safari\")\n",
    "islandTokens = nlp(\"island hawaii bahamas\")\n",
    "woodsTokens = nlp(\"woods camping hike\")\n",
    "magicTokens = nlp(\"magic fairy wizard\")\n",
    "gardenTokens = nlp(\"garden flower bee\")\n",
    "nighttimeTokens = nlp(\"nighttime bedtime lullaby\")\n",
    "oceanTokens = nlp(\"ocean marine\")\n",
    "farmTokens = nlp(\"farm rooster harvest\")\n",
    "cityTokens = nlp(\"city metro urban\")\n",
    "futureTokens = nlp(\"futuristic technology astronaut\")\n",
    "houseTokens = nlp(\"house bedroom\")\n",
    "scaryTokens = nlp(\"scary monster terror\")"
   ]
  },
  {
   "cell_type": "code",
   "execution_count": null,
   "metadata": {},
   "outputs": [],
   "source": [
    "#read the character files under the folder character_model\n",
    "with open('character_model/animals.txt') as f: animal_entities = f.read().split()\n",
    "with open('character_model/boy.txt') as f: boy_entities = f.read().split()\n",
    "with open('character_model/cat.txt') as f: cat_entities = f.read().split()\n",
    "with open('character_model/dog.txt') as f: dog_entities = f.read().split()\n",
    "with open('character_model/fairy.txt') as f: fairy_entities = f.read().split()\n",
    "with open('character_model/girl.txt') as f: girl_entities = f.read().split()\n",
    "with open('character_model/monster.txt') as f: monster_entities = f.read().split()\n",
    "with open('character_model/royalty.txt') as f: royalty_entities = f.read().split()\n",
    "with open('character_model/superhero.txt') as f: superhero_entities = f.read().split()"
   ]
  },
  {
   "cell_type": "code",
   "execution_count": null,
   "metadata": {},
   "outputs": [],
   "source": [
    "#get Entity Function - \n",
    "#input: a word and a dataset containing a list of entities\n",
    "#Outputs 1 if entity is in file, 0 otherwise\n",
    "def getEntity(word, entities_list):\n",
    "    if word.lower() in entities_list:\n",
    "        return 1\n",
    "    else:\n",
    "        return 0"
   ]
  },
  {
   "cell_type": "code",
   "execution_count": null,
   "metadata": {},
   "outputs": [],
   "source": [
    "#get Similarity function for settings\n",
    "#input: a word and nlp spacy tokens\n",
    "#output: highest level of similarity between the word and the tokens (must be greater than the tunning)\n",
    "def getSimilarity(word, tokens):\n",
    "    #Small threshold value means more noise, value of .5 is standart\n",
    "    threshold = .5\n",
    "    #convert word to a token\n",
    "    wordToken = nlp(word)[0]\n",
    "    result = 0.0\n",
    "    for token in tokens: \n",
    "        evaluation = token.similarity(wordToken)\n",
    "        if evaluation > result and evaluation >= threshold:\n",
    "            result = evaluation\n",
    "    return result"
   ]
  },
  {
   "cell_type": "code",
   "execution_count": null,
   "metadata": {},
   "outputs": [],
   "source": [
    "# Guess gender\n",
    "# Input: a full name\n",
    "# Output: returns girl, boy or none if gender is undefined \n",
    "def guessGender(name):\n",
    "    first = name.split()[0]\n",
    "    guess = gender_det.get_gender(first)\n",
    "    if guess == \"female\" or guess == \"mostly_female\":\n",
    "        return \"girl\"\n",
    "    elif guess == \"male\" or guess == \"mostly_male\":\n",
    "        return \"boy\"\n",
    "    else:\n",
    "        return None"
   ]
  },
  {
   "cell_type": "code",
   "execution_count": null,
   "metadata": {},
   "outputs": [],
   "source": [
    "# Is Author Function\n",
    "# Input: a full name, and the author's full name \n",
    "# Output: True if name is part of author's name; false otherwise\n",
    "def isAuthor(name, author_):\n",
    "    for n in name.split():\n",
    "        if n in author_.split():\n",
    "            return True\n",
    "    return False"
   ]
  },
  {
   "cell_type": "code",
   "execution_count": null,
   "metadata": {},
   "outputs": [],
   "source": [
    "#takes a numpy vetor and normalizes it\n",
    "def normalizeVector(v):\n",
    "    norm=np.linalg.norm(v, ord=1)\n",
    "    if norm==0:\n",
    "        norm=np.finfo(v.dtype).eps\n",
    "    return v/norm"
   ]
  },
  {
   "cell_type": "code",
   "execution_count": null,
   "metadata": {},
   "outputs": [],
   "source": [
    "def getSettingsVector(document):\n",
    "    settings_vector = np.zeros(12)\n",
    "    for token in document:\n",
    "        if token.pos_ == \"PROPN\" or token.pos_ == \"NOUN\" : #or token.pos_ == \"ADJ\"\n",
    "            #assigns values to the settings_vector\n",
    "            settings_vector[0] += getSimilarity(token.lemma_, jungleTokens)\n",
    "            settings_vector[1] += getSimilarity(token.lemma_, islandTokens)\n",
    "            settings_vector[2] += getSimilarity(token.lemma_, woodsTokens)\n",
    "            settings_vector[3] += getSimilarity(token.lemma_, magicTokens)\n",
    "            settings_vector[4] += getSimilarity(token.lemma_, gardenTokens)\n",
    "            settings_vector[5] += getSimilarity(token.lemma_, nighttimeTokens)\n",
    "            settings_vector[6] += getSimilarity(token.lemma_, oceanTokens)\n",
    "            settings_vector[7] += getSimilarity(token.lemma_, farmTokens)\n",
    "            settings_vector[8] += getSimilarity(token.lemma_, cityTokens)\n",
    "            settings_vector[9] += getSimilarity(token.lemma_, futureTokens)\n",
    "            settings_vector[10] += getSimilarity(token.lemma_, houseTokens)\n",
    "            settings_vector[11] += getSimilarity(token.lemma_, scaryTokens)\n",
    "    return normalizeVector(settings_vector)\n",
    "    "
   ]
  },
  {
   "cell_type": "code",
   "execution_count": null,
   "metadata": {},
   "outputs": [],
   "source": [
    "def getCharacterVector(document):\n",
    "    character_vector = np.zeros(9)\n",
    "    for token in document:\n",
    "        if token.pos_ == \"PROPN\" or token.pos_ == \"NOUN\" : #or token.pos_ == \"ADJ\"\n",
    "            character_vector[0] += getEntity(token.lemma_, animal_entities)\n",
    "            character_vector[1] += getEntity(token.lemma_, boy_entities)\n",
    "            character_vector[2] += getEntity(token.lemma_, cat_entities)\n",
    "            character_vector[3] += getEntity(token.lemma_, dog_entities)\n",
    "            character_vector[4] += getEntity(token.lemma_, fairy_entities)\n",
    "            character_vector[5] += getEntity(token.lemma_, girl_entities)\n",
    "            character_vector[6] += getEntity(token.lemma_, monster_entities)\n",
    "            character_vector[7] += getEntity(token.lemma_, royalty_entities)\n",
    "            character_vector[8] += getEntity(token.lemma_, superhero_entities)\n",
    "    \n",
    "    for entity in doc.ents:\n",
    "        if entity.label_ == \"PERSON\":\n",
    "            #do not account if it is the author\n",
    "            if isAuthor(entity.text, author):\n",
    "                continue\n",
    "            #check gender\n",
    "            personGender = guessGender(entity.text)\n",
    "            if personGender == \"boy\":\n",
    "                character_vector[1] += 1\n",
    "            if personGender == \"girl\":\n",
    "                character_vector[5] += 1\n",
    "    return character_vector"
   ]
  },
  {
   "cell_type": "code",
   "execution_count": 1,
   "metadata": {
    "scrolled": false
   },
   "outputs": [
    {
     "name": "stdout",
     "output_type": "stream",
     "text": [
      "J.K. Rowling\n",
      "A global phenomenon and cornerstone of contemporary children’s literature, J.K. Rowling’s Harry Potter series is both universally adored and critically acclaimed. Now, experience the magic as you’ve never heard it before. The inimitable Jim Dale brings to life an entire cast of characters—from the pinched, nasal whine of Petunia Dursley to the shrill huff of the Sorting Hat to the earnest, wondrous voice of the boy wizard himself.\n",
      "Orphaned as an infant, young Harry Potter has been living a less-than-fortunate life. Belittled by his pompous uncle and sniveling aunt (not to mention his absolute terror of a cousin, Dudley), Harry has resigned himself to a mediocre existence in the cupboard under the stairs. But then the letters start dropping on the doormat at Number Four, Privet Drive. Addressed to “Mr. H. Potter” and stamped shut with a purple wax seal, the peculiar envelopes are swiftly confiscated by his relentlessly cruel family. But nothing stops Rubeus Hagrid, a great beetle-eyed giant of a man, from kicking down the door and bursting in with astonishing news: Harry Potter is a wizard—and not only a wizard, he’s an incredibly famous wizard. Hagrid spirits him away to Hogwarts School of Witchcraft and Wizardry, setting into motion an incredible adventure (Banks run by goblins! Enchanted train platforms! Invisibility Cloaks!) that listeners won’t ever forget. \n",
      "\n"
     ]
    }
   ],
   "source": [
    "#Here is the piece that reads the input file - adapt this piece of code in case you are\n",
    "    #working with large files, like CSVs. You need to extract the description and author's name\n",
    "    # from each cell of the csv\n",
    "\n",
    "# Open the description file for analysis \n",
    "# Don't forget to input the author's name\n",
    "file = open(\"description.txt\",\"r\")\n",
    "author = \"J.K. Rowling\"\n",
    "rawText = file.read()\n",
    "file.close()\n",
    "print(author)\n",
    "print(rawText)"
   ]
  },
  {
   "cell_type": "code",
   "execution_count": null,
   "metadata": {},
   "outputs": [],
   "source": [
    "#create the document \n",
    "doc = nlp(rawText)\n",
    "#create the vector for the settings (this is the vector to be saved in the CSV file)\n",
    "settings_vec = getSettingsVector(doc)\n",
    "#create the vector for the characters (this is the vector to be saved in the CSV file)\n",
    "character_vec = getCharacterVector(doc)"
   ]
  },
  {
   "cell_type": "code",
   "execution_count": null,
   "metadata": {},
   "outputs": [],
   "source": [
    "#the next function are just for plotting - not necessary for the vectors creation \n",
    "import matplotlib.pyplot as plt"
   ]
  },
  {
   "cell_type": "code",
   "execution_count": null,
   "metadata": {},
   "outputs": [],
   "source": [
    "#these functions is just for converting to dictionary for easy plotting \n",
    "def vector_to_dictionary_setting(vector):\n",
    "    dic = {     \"Jungle\": vector[0],\n",
    "                \"Island\": vector[1],\n",
    "                \"Woods\": vector[2],\n",
    "                \"Magic\": vector[3],\n",
    "                \"Garden\": vector[4],\n",
    "                \"Nighttime\": vector[5],\n",
    "                \"Ocean\": vector[6],\n",
    "                \"Farm\": vector[7],\n",
    "                \"City\": vector[8],\n",
    "                \"Futuristic\": vector[9],\n",
    "                \"House\": vector[10],\n",
    "                \"Scary\": vector[11]}\n",
    "    return dic\n",
    "\n",
    "def vector_to_dictionary_character(vector):\n",
    "    dic = {     \"Animal\": vector[0],\n",
    "                \"Boy\": vector[1],\n",
    "                \"Cat\": vector[2],\n",
    "                \"Dog\": vector[3],\n",
    "                \"Fairy\": vector[4],\n",
    "                \"Girl\": vector[5],\n",
    "                \"Monster\": vector[6],\n",
    "                \"Royalty\": vector[7],\n",
    "                \"Superhero\": vector[8]}\n",
    "    return dic"
   ]
  },
  {
   "cell_type": "code",
   "execution_count": null,
   "metadata": {},
   "outputs": [],
   "source": [
    "#plot the settings\n",
    "result_set = vector_to_dictionary_setting(settings_vec)\n",
    "plt.barh(range(len(result_set)), list(result_set.values()), align='center')\n",
    "plt.yticks(range(len(result_set)), list(result_set.keys()))\n",
    "plt.title('Settings from book Decription')\n",
    "plt.show()\n",
    "#plot the Characters\n",
    "result_char = vector_to_dictionary_character(character_vec)\n",
    "plt.barh(range(len(result_char)), list(result_char.values()), align='center')\n",
    "plt.yticks(range(len(result_char)), list(result_char.keys()))\n",
    "plt.title('Characters from book Decription')\n",
    "plt.show()"
   ]
  },
  {
   "cell_type": "code",
   "execution_count": null,
   "metadata": {},
   "outputs": [],
   "source": []
  },
  {
   "cell_type": "code",
   "execution_count": null,
   "metadata": {},
   "outputs": [],
   "source": []
  },
  {
   "cell_type": "code",
   "execution_count": null,
   "metadata": {},
   "outputs": [],
   "source": []
  },
  {
   "cell_type": "code",
   "execution_count": null,
   "metadata": {},
   "outputs": [],
   "source": []
  },
  {
   "cell_type": "code",
   "execution_count": null,
   "metadata": {},
   "outputs": [],
   "source": []
  },
  {
   "cell_type": "code",
   "execution_count": null,
   "metadata": {},
   "outputs": [],
   "source": []
  }
 ],
 "metadata": {
  "kernelspec": {
   "display_name": "Python 3",
   "language": "python",
   "name": "python3"
  },
  "language_info": {
   "codemirror_mode": {
    "name": "ipython",
    "version": 3
   },
   "file_extension": ".py",
   "mimetype": "text/x-python",
   "name": "python",
   "nbconvert_exporter": "python",
   "pygments_lexer": "ipython3",
   "version": "3.8.2"
  }
 },
 "nbformat": 4,
 "nbformat_minor": 2
}
